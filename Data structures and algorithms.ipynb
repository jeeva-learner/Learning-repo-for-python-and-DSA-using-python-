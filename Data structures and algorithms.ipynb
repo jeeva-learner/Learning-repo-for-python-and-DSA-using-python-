{
 "cells": [
  {
   "cell_type": "markdown",
   "id": "8a7263e3",
   "metadata": {},
   "source": [
    "# Logical Thinking"
   ]
  },
  {
   "cell_type": "markdown",
   "id": "0d672505",
   "metadata": {},
   "source": [
    "Core Math for DSA\n",
    "1. Arithmetic & Algebra\n",
    "\n",
    "Basic operations (+, −, ×, ÷, %, floor/ceil).\n",
    "\n",
    "Exponentiation & logarithms (e.g., time complexity O(log n)).\n",
    "\n",
    "Growth of functions (n, n log n, n² etc.).\n",
    "\n",
    "👉 Example: Understanding why binary search is O(log n) needs knowledge of logarithms.\n",
    "\n",
    "2. Discrete Mathematics (Most Important)\n",
    "\n",
    "Logic → AND, OR, NOT, XOR, implications.\n",
    "\n",
    "Sets → unions, intersections, subsets.\n",
    "\n",
    "Relations & Functions → mapping inputs to outputs.\n",
    "\n",
    "Proof techniques → induction (often used in algorithm analysis).\n",
    "\n",
    "👉 Example: Proving correctness of recursive algorithms.\n",
    "\n",
    "3. Number Theory & Modular Arithmetic\n",
    "\n",
    "GCD/LCM (Euclidean algorithm).\n",
    "\n",
    "Prime numbers, factorization, divisibility rules.\n",
    "\n",
    "Modular arithmetic (a % m) → very important in hashing, cryptography, competitive programming.\n",
    "\n",
    "👉 Example: Hash functions in HashMaps use modular arithmetic.\n",
    "\n",
    "4. Combinatorics & Probability\n",
    "\n",
    "Permutations & combinations (nCr, nPr).\n",
    "\n",
    "Basic probability rules (independent/dependent events).\n",
    "\n",
    "Counting principles (pigeonhole principle, inclusion-exclusion).\n",
    "\n",
    "👉 Example: Calculating collisions in hashing or analyzing randomized algorithms.\n",
    "\n",
    "5. Graph Theory (Subset of Discrete Math)\n",
    "\n",
    "Graphs (nodes, edges, paths, cycles).\n",
    "\n",
    "Trees (binary trees, BSTs).\n",
    "\n",
    "Directed vs undirected, weighted vs unweighted.\n",
    "\n",
    "Degree, connectivity, shortest paths.\n",
    "\n",
    "👉 Example: Dijkstra’s, BFS, DFS — all are graph-based.\n",
    "\n",
    "6. Basic Geometry (Optional but Useful)\n",
    "\n",
    "Coordinate geometry, distance formula.\n",
    "\n",
    "Slopes, midpoints, angles.\n",
    "\n",
    "Vector basics (for computational geometry problems).\n",
    "\n",
    "👉 Example: Checking if two line segments intersect in a geometry-based DSA problem."
   ]
  },
  {
   "cell_type": "markdown",
   "id": "da799dfa",
   "metadata": {},
   "source": [
    "## Patterns"
   ]
  },
  {
   "cell_type": "markdown",
   "id": "9f277332",
   "metadata": {},
   "source": [
    "#### Pattern problem 1"
   ]
  },
  {
   "cell_type": "code",
   "execution_count": 1,
   "id": "c9c1662b",
   "metadata": {},
   "outputs": [
    {
     "name": "stdout",
     "output_type": "stream",
     "text": [
      "\n",
      "*****\n",
      "*****\n",
      "*****\n",
      "*****\n",
      "*****"
     ]
    }
   ],
   "source": [
    "pattern_no_of_rows    = 5\n",
    "pattern_no_of_columns = 5\n",
    "for i in range(pattern_no_of_rows):\n",
    "  print(\"\")\n",
    "  for j in range(pattern_no_of_columns):\n",
    "    print(\"*\",end =\"\")\n"
   ]
  },
  {
   "cell_type": "markdown",
   "id": "3cee7fb5",
   "metadata": {},
   "source": [
    "#### Pattern problem 2"
   ]
  },
  {
   "cell_type": "code",
   "execution_count": 2,
   "id": "015241f7",
   "metadata": {},
   "outputs": [
    {
     "name": "stdout",
     "output_type": "stream",
     "text": [
      "\n",
      "*\n",
      "**\n",
      "***\n",
      "****\n",
      "*****"
     ]
    }
   ],
   "source": [
    "pattern_no_of_rows    = 5\n",
    "# pattern_no_of_columns = 5\n",
    "for i in range(pattern_no_of_rows):\n",
    "  print(\"\")\n",
    "  for j in range(0,i+1):\n",
    "    print(\"*\",end=\"\")\n"
   ]
  },
  {
   "cell_type": "markdown",
   "id": "b329c93c",
   "metadata": {},
   "source": [
    "#### Pattern problem 3"
   ]
  },
  {
   "cell_type": "code",
   "execution_count": 3,
   "id": "94b6a9b7",
   "metadata": {},
   "outputs": [
    {
     "name": "stdout",
     "output_type": "stream",
     "text": [
      "\n",
      "1\n",
      "12\n",
      "123\n",
      "1234\n",
      "12345"
     ]
    }
   ],
   "source": [
    "pattern_no_of_rows    = 5\n",
    "for i in range(1,pattern_no_of_rows+1):\n",
    "  print(\"\")\n",
    "  for j in range(1,i+1):\n",
    "    print(j,end=\"\")\n"
   ]
  },
  {
   "cell_type": "markdown",
   "id": "b9924e9f",
   "metadata": {},
   "source": [
    "#### Pattern problem 4"
   ]
  },
  {
   "cell_type": "code",
   "execution_count": 4,
   "id": "48cf07cb",
   "metadata": {},
   "outputs": [
    {
     "name": "stdout",
     "output_type": "stream",
     "text": [
      "\n",
      "1\n",
      "22\n",
      "333\n",
      "4444\n",
      "55555"
     ]
    }
   ],
   "source": [
    "pattern_no_of_rows    = 5\n",
    "for i in range(1,pattern_no_of_rows+1):\n",
    "  print(\"\")\n",
    "  for j in range(1,i+1):\n",
    "    print(i,end=\"\")\n"
   ]
  },
  {
   "cell_type": "markdown",
   "id": "9769c781",
   "metadata": {},
   "source": [
    "#### Pattern problem 5"
   ]
  },
  {
   "cell_type": "code",
   "execution_count": 5,
   "id": "6ac57b1c",
   "metadata": {},
   "outputs": [
    {
     "name": "stdout",
     "output_type": "stream",
     "text": [
      "\n",
      "*****\n",
      "****\n",
      "***\n",
      "**\n",
      "*"
     ]
    }
   ],
   "source": [
    "pattern_no_of_rows    = 5\n",
    "for i in range(pattern_no_of_rows):\n",
    "  print(\"\")\n",
    "  for j in range(0,pattern_no_of_rows-i):\n",
    "    print(\"*\",end=\"\")\n"
   ]
  },
  {
   "cell_type": "markdown",
   "id": "605afa2a",
   "metadata": {},
   "source": [
    "#### Pattern problem 6"
   ]
  },
  {
   "cell_type": "code",
   "execution_count": 6,
   "id": "a6df7208",
   "metadata": {},
   "outputs": [
    {
     "name": "stdout",
     "output_type": "stream",
     "text": [
      "\n",
      "12345\n",
      "1234\n",
      "123\n",
      "12\n",
      "1"
     ]
    }
   ],
   "source": [
    "pattern_no_of_rows    = 5\n",
    "for i in range(pattern_no_of_rows):\n",
    "  print(\"\")\n",
    "  for j in range(1,(pattern_no_of_rows-i)+1):\n",
    "    print(j,end=\"\")\n"
   ]
  },
  {
   "cell_type": "markdown",
   "id": "59f719cd",
   "metadata": {},
   "source": [
    "#### Pattern problem 7"
   ]
  },
  {
   "cell_type": "code",
   "execution_count": 7,
   "id": "2625e411",
   "metadata": {},
   "outputs": [
    {
     "name": "stdout",
     "output_type": "stream",
     "text": [
      "    *    \n",
      "   ***   \n",
      "  *****  \n",
      " ******* \n",
      "*********\n"
     ]
    }
   ],
   "source": [
    "pattern_no_of_rows   =  5\n",
    "for i in range(pattern_no_of_rows):\n",
    "  for j in range(0,(pattern_no_of_rows-i-1)):\n",
    "    print(\" \",end=\"\")\n",
    "  for j in range(0, 2*i+1):\n",
    "    print(\"*\",end=\"\")\n",
    "  for j in range(0,(pattern_no_of_rows-i-1)):\n",
    "    print(\" \",end=\"\")\n",
    "  print()\n"
   ]
  },
  {
   "cell_type": "markdown",
   "id": "37535dd5",
   "metadata": {},
   "source": [
    "#### Pattern problem 8"
   ]
  },
  {
   "cell_type": "code",
   "execution_count": 4,
   "id": "d33aa3bb",
   "metadata": {},
   "outputs": [
    {
     "name": "stdout",
     "output_type": "stream",
     "text": [
      "*********\n",
      " ******* \n",
      "  *****  \n",
      "   ***   \n",
      "    *    \n"
     ]
    }
   ],
   "source": [
    "pattern_no_of_rows      = 5\n",
    "for i in range (pattern_no_of_rows):\n",
    "    for j in range(0,i):\n",
    "        print(\" \",end=\"\")\n",
    "    for j in range( 2*pattern_no_of_rows -(2*i +1)):\n",
    "        print(\"*\",end=\"\")\n",
    "    for j in range(0,i):\n",
    "        print(\" \",end=\"\")\n",
    "    print()\n"
   ]
  },
  {
   "cell_type": "markdown",
   "id": "46e4fe97",
   "metadata": {},
   "source": [
    "#### Pattern problem 9"
   ]
  },
  {
   "cell_type": "code",
   "execution_count": 8,
   "id": "fbc9c086",
   "metadata": {},
   "outputs": [
    {
     "name": "stdout",
     "output_type": "stream",
     "text": [
      "    *    \n",
      "   ***   \n",
      "  *****  \n",
      " ******* \n",
      "*********\n",
      "*********\n",
      " ******* \n",
      "  *****  \n",
      "   ***   \n",
      "    *    \n"
     ]
    }
   ],
   "source": [
    "def pyramid(rows: int) -> None:\n",
    "    pattern_no_of_rows   =  rows\n",
    "    for i in range(pattern_no_of_rows):\n",
    "        for j in range(0,(pattern_no_of_rows-i-1)):\n",
    "            print(\" \",end=\"\")\n",
    "        for j in range(0, 2*i+1):\n",
    "            print(\"*\",end=\"\")\n",
    "        for j in range(0,(pattern_no_of_rows-i-1)):\n",
    "            print(\" \",end=\"\")\n",
    "        print()\n",
    "\n",
    "def inverted_pyramid (rows: int) -> None:\n",
    "    pattern_no_of_rows      = rows\n",
    "    for i in range (pattern_no_of_rows):\n",
    "        for j in range(0,i):\n",
    "            print(\" \",end=\"\")\n",
    "        for j in range( 2*pattern_no_of_rows -(2*i +1)):\n",
    "            print(\"*\",end=\"\")\n",
    "        for j in range(0,i):\n",
    "            print(\" \",end=\"\")\n",
    "        print()\n",
    "\n",
    "number_of_rows = 5\n",
    "pyramid(number_of_rows)\n",
    "inverted_pyramid(number_of_rows)\n"
   ]
  },
  {
   "cell_type": "markdown",
   "id": "8a0cd23b",
   "metadata": {},
   "source": [
    "#### Pattern problem 10"
   ]
  },
  {
   "cell_type": "code",
   "execution_count": null,
   "id": "8cec746f",
   "metadata": {},
   "outputs": [
    {
     "name": "stdout",
     "output_type": "stream",
     "text": [
      "\n",
      "*\n",
      "**\n",
      "***\n",
      "****\n",
      "*****\n",
      "****\n",
      "***\n",
      "**\n"
     ]
    }
   ],
   "source": [
    "number_of_rows    = 5\n",
    "\n",
    "for i in range (2*number_of_rows-1):\n",
    "    stars = i if i<number_of_rows else 2*number_of_rows-i\n",
    "    for j in range(1,stars+1):\n",
    "        print(\"*\",end=\"\")\n",
    "    print()\n",
    "\n",
    "# To optimize the bug in missing last single star in printing logic\n"
   ]
  },
  {
   "cell_type": "markdown",
   "id": "072624da",
   "metadata": {},
   "source": [
    "#### Pattern problem 11"
   ]
  },
  {
   "cell_type": "code",
   "execution_count": 26,
   "id": "ccf043b9",
   "metadata": {},
   "outputs": [
    {
     "name": "stdout",
     "output_type": "stream",
     "text": [
      "1\n",
      "01\n",
      "101\n",
      "0101\n",
      "10101\n"
     ]
    }
   ],
   "source": [
    "number_of_rows      = 5\n",
    "for i in range(1,number_of_rows+1):\n",
    "    value = 0 if i%2 == 0 else 1\n",
    "    for j in range(i):\n",
    "        print(value, end=\"\")\n",
    "        value = 1 - value\n",
    "    print()\n"
   ]
  },
  {
   "cell_type": "markdown",
   "id": "8f641a66",
   "metadata": {},
   "source": [
    "#### Pattern problem 12"
   ]
  },
  {
   "cell_type": "code",
   "execution_count": 7,
   "id": "84ae43b7",
   "metadata": {},
   "outputs": [
    {
     "name": "stdout",
     "output_type": "stream",
     "text": [
      "1        1\n",
      "12      21\n",
      "123    321\n",
      "1234  4321\n",
      "1234554321\n"
     ]
    }
   ],
   "source": [
    "number_of_rows      =   5\n",
    "\n",
    "for i in range(1,number_of_rows+1):\n",
    "    for j in range(1,i+1):\n",
    "        print(j,end=\"\")\n",
    "    for j in range((number_of_rows-i)*2):\n",
    "        print(\" \",end=\"\")\n",
    "    for j in range(i,0,-1):\n",
    "        print(j, end=\"\")\n",
    "    print()\n"
   ]
  },
  {
   "cell_type": "markdown",
   "id": "0f357a68",
   "metadata": {},
   "source": [
    "#### Pattern problem 13"
   ]
  },
  {
   "cell_type": "code",
   "execution_count": 9,
   "id": "770fa558",
   "metadata": {},
   "outputs": [
    {
     "name": "stdout",
     "output_type": "stream",
     "text": [
      "1 \n",
      "2 3 \n",
      "4 5 6 \n",
      "7 8 9 10 \n",
      "11 12 13 14 15 \n"
     ]
    }
   ],
   "source": [
    "number_of_rows      =   5\n",
    "init                =   0\n",
    "\n",
    "for i in range(1,number_of_rows+1):\n",
    "    for j in range(1,i+1):\n",
    "        init = init+1\n",
    "        print (init,end=\" \")\n",
    "    print()\n"
   ]
  },
  {
   "cell_type": "markdown",
   "id": "53ee8811",
   "metadata": {},
   "source": [
    "#### Pattern problem 14"
   ]
  },
  {
   "cell_type": "code",
   "execution_count": 14,
   "id": "05be7108",
   "metadata": {},
   "outputs": [
    {
     "name": "stdout",
     "output_type": "stream",
     "text": [
      "A\n",
      "AB\n",
      "ABC\n",
      "ABCD\n",
      "ABCDE\n"
     ]
    }
   ],
   "source": [
    "number_of_rows      =   5\n",
    "\n",
    "for i in range(1,number_of_rows+1):\n",
    "    for j in range(i):\n",
    "        print(chr(ord('A')+j),end=\"\")\n",
    "    print()\n"
   ]
  },
  {
   "cell_type": "markdown",
   "id": "13a65dab",
   "metadata": {},
   "source": [
    "#### Pattern problem 15"
   ]
  },
  {
   "cell_type": "code",
   "execution_count": 15,
   "id": "48bb25ab",
   "metadata": {},
   "outputs": [
    {
     "name": "stdout",
     "output_type": "stream",
     "text": [
      "ABCDE\n",
      "ABCD\n",
      "ABC\n",
      "AB\n",
      "A\n"
     ]
    }
   ],
   "source": [
    "number_of_rows      =   5\n",
    "\n",
    "for i in range(number_of_rows):\n",
    "    for j in range(number_of_rows-i):\n",
    "        print(chr(ord('A')+j),end=\"\")\n",
    "    print()\n"
   ]
  },
  {
   "cell_type": "markdown",
   "id": "10479984",
   "metadata": {},
   "source": [
    "#### Pattern problem 16"
   ]
  },
  {
   "cell_type": "code",
   "execution_count": 21,
   "id": "1948adcc",
   "metadata": {},
   "outputs": [
    {
     "name": "stdout",
     "output_type": "stream",
     "text": [
      "A \n",
      "B B \n",
      "C C C \n",
      "D D D D \n",
      "E E E E E \n"
     ]
    }
   ],
   "source": [
    "number_of_rows      = 5\n",
    "for i in range(number_of_rows):\n",
    "    for j in range(i+1):\n",
    "        print(chr(ord('A')+i),end=\" \")\n",
    "    print()\n"
   ]
  },
  {
   "cell_type": "markdown",
   "id": "592f2b48",
   "metadata": {},
   "source": [
    "#### Pattern problem 17"
   ]
  },
  {
   "cell_type": "code",
   "execution_count": 26,
   "id": "acffec32",
   "metadata": {},
   "outputs": [
    {
     "name": "stdout",
     "output_type": "stream",
     "text": [
      "    A    \n",
      "   ABA   \n",
      "  ABCBA  \n",
      " ABCDCBA \n"
     ]
    }
   ],
   "source": [
    "number_of_rows      =   4\n",
    "\n",
    "for i in range(number_of_rows):\n",
    "    for j in range  (number_of_rows-i):\n",
    "        print(\" \",end=\"\")\n",
    "    for j in range(i+1):\n",
    "        print(chr(ord('A')+j),end=\"\")\n",
    "    for j in range(i-1,-1,-1):\n",
    "        print(chr(ord('A')+j),end=\"\")\n",
    "    for j in range(number_of_rows-i):\n",
    "        print(\" \",end=\"\")\n",
    "    print()\n"
   ]
  },
  {
   "cell_type": "markdown",
   "id": "04c70908",
   "metadata": {},
   "source": [
    "#### Pattern problem 18"
   ]
  },
  {
   "cell_type": "code",
   "execution_count": 8,
   "id": "8f3a0c40",
   "metadata": {},
   "outputs": [
    {
     "name": "stdout",
     "output_type": "stream",
     "text": [
      "E \n",
      "D E \n",
      "C D E \n",
      "B C D E \n",
      "A B C D E \n"
     ]
    }
   ],
   "source": [
    "number_of_rows = 5\n",
    "\n",
    "for i in range(number_of_rows):\n",
    "    start_char = ord('A') + number_of_rows - i - 1   # maps 2→'C', 1→'B', 0→'A'\n",
    "    for j in range(i+1):\n",
    "        print(chr(start_char + j), end=\" \")\n",
    "    print()\n"
   ]
  },
  {
   "cell_type": "markdown",
   "id": "d2688296",
   "metadata": {},
   "source": [
    "#### Pattern problem 19"
   ]
  },
  {
   "cell_type": "code",
   "execution_count": 1,
   "id": "3669c5c0",
   "metadata": {},
   "outputs": [
    {
     "name": "stdout",
     "output_type": "stream",
     "text": [
      "**********\n",
      "****  ****\n",
      "***    ***\n",
      "**      **\n",
      "*        *\n",
      "*        *\n",
      "**      **\n",
      "***    ***\n",
      "****  ****\n",
      "**********\n"
     ]
    }
   ],
   "source": [
    "def first_pyramid(number_of_rows):\n",
    "    for i in range(number_of_rows):\n",
    "        space  = 2*i\n",
    "        for j in range(number_of_rows-i):\n",
    "            print(\"*\",end=\"\")\n",
    "        for j in range(space):\n",
    "            print(\" \",end=\"\")\n",
    "        for j in range(number_of_rows - i):\n",
    "            print(\"*\",end=\"\")\n",
    "        print()\n",
    "\n",
    "def second_pyramid (number_of_rows):\n",
    "    for i in range(1,number_of_rows+1):\n",
    "        space = 2*(number_of_rows-i)\n",
    "        for j in range(i):\n",
    "            print(\"*\",end = \"\")\n",
    "        for j in range(space):\n",
    "            print(\" \",end=\"\")\n",
    "        for j in range(i):\n",
    "            print(\"*\",end=\"\")\n",
    "        print()\n",
    "\n",
    "number_of_rows   =  5\n",
    "first_pyramid(number_of_rows)\n",
    "second_pyramid(number_of_rows)\n"
   ]
  },
  {
   "cell_type": "markdown",
   "id": "c77ecaad",
   "metadata": {},
   "source": [
    "#### Pattern problem 20"
   ]
  },
  {
   "cell_type": "code",
   "execution_count": 2,
   "id": "57207851",
   "metadata": {},
   "outputs": [
    {
     "name": "stdout",
     "output_type": "stream",
     "text": [
      "*        *\n",
      "**      **\n",
      "***    ***\n",
      "****  ****\n",
      "**********\n",
      "****  ****\n",
      "***    ***\n",
      "**      **\n",
      "*        *\n"
     ]
    }
   ],
   "source": [
    "def first_pyramid(number_of_rows):\n",
    "    for i in range(1,number_of_rows+1):\n",
    "        space = 2*(number_of_rows - i)\n",
    "        for j in range(i):\n",
    "            print(\"*\",end=\"\")\n",
    "        for j in range(space):\n",
    "            print(\" \",end=\"\")\n",
    "        for j in range(i):\n",
    "            print(\"*\",end=\"\")\n",
    "        print()\n",
    "\n",
    "def second_pyramid(number_of_rows):\n",
    "    for i in range(1,number_of_rows):\n",
    "        space   = 2*i\n",
    "        for j in range(number_of_rows-i):\n",
    "            print(\"*\",end=\"\")\n",
    "        for j in range(space):\n",
    "            print(\" \",end=\"\")\n",
    "        for j in range(number_of_rows-i):\n",
    "            print(\"*\",end=\"\")\n",
    "        print()\n",
    "\n",
    "\n",
    "rows = 5\n",
    "first_pyramid(rows)\n",
    "second_pyramid(rows)\n"
   ]
  },
  {
   "cell_type": "markdown",
   "id": "52bee665",
   "metadata": {},
   "source": [
    "#### Pattern problem 21"
   ]
  },
  {
   "cell_type": "code",
   "execution_count": 3,
   "id": "23cc50c2",
   "metadata": {},
   "outputs": [
    {
     "name": "stdout",
     "output_type": "stream",
     "text": [
      "**********\n",
      "*        *\n",
      "*        *\n",
      "*        *\n",
      "*        *\n",
      "*        *\n",
      "*        *\n",
      "*        *\n",
      "*        *\n",
      "**********\n"
     ]
    }
   ],
   "source": [
    "number_of_rows      = 10\n",
    "\n",
    "for i in range(number_of_rows):\n",
    "    for j in range(number_of_rows):\n",
    "        if(j==0 or j== number_of_rows-1 or i==0 or i==number_of_rows-1):\n",
    "            print(\"*\",end=\"\")\n",
    "        else:\n",
    "            print(\" \",end=\"\")\n",
    "    print()\n"
   ]
  },
  {
   "cell_type": "markdown",
   "id": "cfe55afe",
   "metadata": {},
   "source": [
    "#### Pattern problem 22"
   ]
  },
  {
   "cell_type": "code",
   "execution_count": 4,
   "id": "b919a9c7",
   "metadata": {},
   "outputs": [
    {
     "name": "stdout",
     "output_type": "stream",
     "text": [
      "4 4 4 4 4 4 4 \n",
      "4 3 3 3 3 3 4 \n",
      "4 3 2 2 2 3 4 \n",
      "4 3 2 1 2 3 4 \n",
      "4 3 2 2 2 3 4 \n",
      "4 3 3 3 3 3 4 \n",
      "4 4 4 4 4 4 4 \n"
     ]
    }
   ],
   "source": [
    "number_of_rows      =   4\n",
    "\n",
    "for i in range(2*number_of_rows-1):\n",
    "    for j in range (2*number_of_rows-1):\n",
    "        left  = j\n",
    "        top   = i\n",
    "        right = ((2*number_of_rows-1)-1-j)\n",
    "        down  = ((2*number_of_rows-1)-1-i) \n",
    "        print(number_of_rows-min(min(left,top),min(right,down)),end=\" \")\n",
    "    print()\n"
   ]
  },
  {
   "cell_type": "markdown",
   "id": "9564672d",
   "metadata": {},
   "source": [
    "## Basic Maths"
   ]
  },
  {
   "cell_type": "markdown",
   "id": "53112750",
   "metadata": {},
   "source": [
    "#### Count Digits - Brute force method"
   ]
  },
  {
   "cell_type": "code",
   "execution_count": 2,
   "id": "a306c2c5",
   "metadata": {},
   "outputs": [
    {
     "name": "stdout",
     "output_type": "stream",
     "text": [
      "4\n"
     ]
    }
   ],
   "source": [
    "n = 1325\n",
    "count = 0\n",
    "\n",
    "while n>0:\n",
    "    count += 1\n",
    "    n = n//10\n",
    "print(count)\n"
   ]
  },
  {
   "cell_type": "markdown",
   "id": "e05270c6",
   "metadata": {},
   "source": [
    "#### Count Digits - Optimized method"
   ]
  },
  {
   "cell_type": "code",
   "execution_count": 14,
   "id": "66ceda15",
   "metadata": {},
   "outputs": [
    {
     "name": "stdout",
     "output_type": "stream",
     "text": [
      "4\n"
     ]
    }
   ],
   "source": [
    "# The logarithmic base 10 of a positive integers \n",
    "# gives the number of digits in n. We add 1 to \n",
    "# the result to ensure that the count is \n",
    "# correct even for numbers that are powers of 10.\n",
    "\n",
    "import math\n",
    "\n",
    "n = 1325\n",
    "cnt = int(math.log10(n)+1)\n",
    "\n",
    "print(cnt)\n"
   ]
  },
  {
   "cell_type": "markdown",
   "id": "8a916026",
   "metadata": {},
   "source": [
    "### Reverse a number"
   ]
  },
  {
   "cell_type": "code",
   "execution_count": 11,
   "id": "1725baf8",
   "metadata": {},
   "outputs": [
    {
     "name": "stdout",
     "output_type": "stream",
     "text": [
      "9877\n"
     ]
    }
   ],
   "source": [
    "input_number = 7789\n",
    "res = 0\n",
    "while input_number > 0:\n",
    "    remainder = input_number%10\n",
    "    res = (res*10) + remainder\n",
    "    input_number = input_number//10\n",
    "\n",
    "print (res)\n"
   ]
  },
  {
   "cell_type": "markdown",
   "id": "a6cd58e8",
   "metadata": {},
   "source": [
    "### Palindrome Check"
   ]
  },
  {
   "cell_type": "code",
   "execution_count": 13,
   "id": "1120d2fd",
   "metadata": {},
   "outputs": [
    {
     "name": "stdout",
     "output_type": "stream",
     "text": [
      "Input is not matchig not an palindrome\n"
     ]
    }
   ],
   "source": [
    "input_number = 10\n",
    "reversed_integer = 0\n",
    "sign = -1 if input_number < 0 else 1\n",
    "absolute_input = abs(input_number)\n",
    "while absolute_input > 0:\n",
    "    remainder  = absolute_input % 10\n",
    "    reversed_integer = (reversed_integer * 10) + remainder\n",
    "    absolute_input = absolute_input // 10\n",
    "\n",
    "if input_number < 0:\n",
    "    print (\"not a palindrome integer\")\n",
    "elif ((sign*reversed_integer) != input_number):\n",
    "    print(\"Input is not matchig not an palindrome\")\n",
    "else:\n",
    "    print(\"palindrome number\")\n"
   ]
  }
 ],
 "metadata": {
  "kernelspec": {
   "display_name": "Python 3",
   "language": "python",
   "name": "python3"
  },
  "language_info": {
   "codemirror_mode": {
    "name": "ipython",
    "version": 3
   },
   "file_extension": ".py",
   "mimetype": "text/x-python",
   "name": "python",
   "nbconvert_exporter": "python",
   "pygments_lexer": "ipython3",
   "version": "3.10.9"
  }
 },
 "nbformat": 4,
 "nbformat_minor": 5
}
