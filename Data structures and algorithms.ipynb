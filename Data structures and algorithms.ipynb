{
 "cells": [
  {
   "cell_type": "markdown",
   "id": "8a7263e3",
   "metadata": {},
   "source": [
    "# Logical Thinking"
   ]
  },
  {
   "cell_type": "markdown",
   "id": "da799dfa",
   "metadata": {},
   "source": [
    "## Patterns"
   ]
  },
  {
   "cell_type": "markdown",
   "id": "9f277332",
   "metadata": {},
   "source": [
    "#### Pattern problem 1"
   ]
  },
  {
   "cell_type": "code",
   "execution_count": 1,
   "id": "c9c1662b",
   "metadata": {},
   "outputs": [
    {
     "name": "stdout",
     "output_type": "stream",
     "text": [
      "\n",
      "*****\n",
      "*****\n",
      "*****\n",
      "*****\n",
      "*****"
     ]
    }
   ],
   "source": [
    "pattern_no_of_rows    = 5\n",
    "pattern_no_of_columns = 5\n",
    "for i in range(pattern_no_of_rows):\n",
    "  print(\"\")\n",
    "  for j in range(pattern_no_of_columns):\n",
    "    print(\"*\",end =\"\")\n"
   ]
  },
  {
   "cell_type": "markdown",
   "id": "3cee7fb5",
   "metadata": {},
   "source": [
    "#### Pattern problem 2"
   ]
  },
  {
   "cell_type": "code",
   "execution_count": 2,
   "id": "015241f7",
   "metadata": {},
   "outputs": [
    {
     "name": "stdout",
     "output_type": "stream",
     "text": [
      "\n",
      "*\n",
      "**\n",
      "***\n",
      "****\n",
      "*****"
     ]
    }
   ],
   "source": [
    "pattern_no_of_rows    = 5\n",
    "# pattern_no_of_columns = 5\n",
    "for i in range(pattern_no_of_rows):\n",
    "  print(\"\")\n",
    "  for j in range(0,i+1):\n",
    "    print(\"*\",end=\"\")\n"
   ]
  },
  {
   "cell_type": "markdown",
   "id": "b329c93c",
   "metadata": {},
   "source": [
    "#### Pattern problem 3"
   ]
  },
  {
   "cell_type": "code",
   "execution_count": 3,
   "id": "94b6a9b7",
   "metadata": {},
   "outputs": [
    {
     "name": "stdout",
     "output_type": "stream",
     "text": [
      "\n",
      "1\n",
      "12\n",
      "123\n",
      "1234\n",
      "12345"
     ]
    }
   ],
   "source": [
    "pattern_no_of_rows    = 5\n",
    "for i in range(1,pattern_no_of_rows+1):\n",
    "  print(\"\")\n",
    "  for j in range(1,i+1):\n",
    "    print(j,end=\"\")\n"
   ]
  },
  {
   "cell_type": "markdown",
   "id": "b9924e9f",
   "metadata": {},
   "source": [
    "#### Pattern problem 4"
   ]
  },
  {
   "cell_type": "code",
   "execution_count": 4,
   "id": "48cf07cb",
   "metadata": {},
   "outputs": [
    {
     "name": "stdout",
     "output_type": "stream",
     "text": [
      "\n",
      "1\n",
      "22\n",
      "333\n",
      "4444\n",
      "55555"
     ]
    }
   ],
   "source": [
    "pattern_no_of_rows    = 5\n",
    "for i in range(1,pattern_no_of_rows+1):\n",
    "  print(\"\")\n",
    "  for j in range(1,i+1):\n",
    "    print(i,end=\"\")\n"
   ]
  },
  {
   "cell_type": "markdown",
   "id": "9769c781",
   "metadata": {},
   "source": [
    "#### Pattern problem 5"
   ]
  },
  {
   "cell_type": "code",
   "execution_count": 5,
   "id": "6ac57b1c",
   "metadata": {},
   "outputs": [
    {
     "name": "stdout",
     "output_type": "stream",
     "text": [
      "\n",
      "*****\n",
      "****\n",
      "***\n",
      "**\n",
      "*"
     ]
    }
   ],
   "source": [
    "pattern_no_of_rows    = 5\n",
    "for i in range(pattern_no_of_rows):\n",
    "  print(\"\")\n",
    "  for j in range(0,pattern_no_of_rows-i):\n",
    "    print(\"*\",end=\"\")\n"
   ]
  },
  {
   "cell_type": "markdown",
   "id": "605afa2a",
   "metadata": {},
   "source": [
    "#### Pattern problem 6"
   ]
  },
  {
   "cell_type": "code",
   "execution_count": 6,
   "id": "a6df7208",
   "metadata": {},
   "outputs": [
    {
     "name": "stdout",
     "output_type": "stream",
     "text": [
      "\n",
      "12345\n",
      "1234\n",
      "123\n",
      "12\n",
      "1"
     ]
    }
   ],
   "source": [
    "pattern_no_of_rows    = 5\n",
    "for i in range(pattern_no_of_rows):\n",
    "  print(\"\")\n",
    "  for j in range(1,(pattern_no_of_rows-i)+1):\n",
    "    print(j,end=\"\")\n"
   ]
  },
  {
   "cell_type": "markdown",
   "id": "59f719cd",
   "metadata": {},
   "source": [
    "#### Pattern problem 7"
   ]
  },
  {
   "cell_type": "code",
   "execution_count": 7,
   "id": "2625e411",
   "metadata": {},
   "outputs": [
    {
     "name": "stdout",
     "output_type": "stream",
     "text": [
      "    *    \n",
      "   ***   \n",
      "  *****  \n",
      " ******* \n",
      "*********\n"
     ]
    }
   ],
   "source": [
    "pattern_no_of_rows   =  5\n",
    "for i in range(pattern_no_of_rows):\n",
    "  for j in range(0,(pattern_no_of_rows-i-1)):\n",
    "    print(\" \",end=\"\")\n",
    "  for j in range(0, 2*i+1):\n",
    "    print(\"*\",end=\"\")\n",
    "  for j in range(0,(pattern_no_of_rows-i-1)):\n",
    "    print(\" \",end=\"\")\n",
    "  print()\n"
   ]
  },
  {
   "cell_type": "markdown",
   "id": "37535dd5",
   "metadata": {},
   "source": [
    "#### Pattern problem 8"
   ]
  },
  {
   "cell_type": "code",
   "execution_count": 4,
   "id": "d33aa3bb",
   "metadata": {},
   "outputs": [
    {
     "name": "stdout",
     "output_type": "stream",
     "text": [
      "*********\n",
      " ******* \n",
      "  *****  \n",
      "   ***   \n",
      "    *    \n"
     ]
    }
   ],
   "source": [
    "pattern_no_of_rows      = 5\n",
    "for i in range (pattern_no_of_rows):\n",
    "    for j in range(0,i):\n",
    "        print(\" \",end=\"\")\n",
    "    for j in range( 2*pattern_no_of_rows -(2*i +1)):\n",
    "        print(\"*\",end=\"\")\n",
    "    for j in range(0,i):\n",
    "        print(\" \",end=\"\")\n",
    "    print()\n"
   ]
  },
  {
   "cell_type": "markdown",
   "id": "46e4fe97",
   "metadata": {},
   "source": [
    "#### Pattern problem 9"
   ]
  },
  {
   "cell_type": "code",
   "execution_count": 8,
   "id": "fbc9c086",
   "metadata": {},
   "outputs": [
    {
     "name": "stdout",
     "output_type": "stream",
     "text": [
      "    *    \n",
      "   ***   \n",
      "  *****  \n",
      " ******* \n",
      "*********\n",
      "*********\n",
      " ******* \n",
      "  *****  \n",
      "   ***   \n",
      "    *    \n"
     ]
    }
   ],
   "source": [
    "def pyramid(rows: int) -> None:\n",
    "    pattern_no_of_rows   =  rows\n",
    "    for i in range(pattern_no_of_rows):\n",
    "        for j in range(0,(pattern_no_of_rows-i-1)):\n",
    "            print(\" \",end=\"\")\n",
    "        for j in range(0, 2*i+1):\n",
    "            print(\"*\",end=\"\")\n",
    "        for j in range(0,(pattern_no_of_rows-i-1)):\n",
    "            print(\" \",end=\"\")\n",
    "        print()\n",
    "\n",
    "def inverted_pyramid (rows: int) -> None:\n",
    "    pattern_no_of_rows      = rows\n",
    "    for i in range (pattern_no_of_rows):\n",
    "        for j in range(0,i):\n",
    "            print(\" \",end=\"\")\n",
    "        for j in range( 2*pattern_no_of_rows -(2*i +1)):\n",
    "            print(\"*\",end=\"\")\n",
    "        for j in range(0,i):\n",
    "            print(\" \",end=\"\")\n",
    "        print()\n",
    "\n",
    "number_of_rows = 5\n",
    "pyramid(number_of_rows)\n",
    "inverted_pyramid(number_of_rows)\n"
   ]
  }
 ],
 "metadata": {
  "kernelspec": {
   "display_name": "Python 3",
   "language": "python",
   "name": "python3"
  },
  "language_info": {
   "codemirror_mode": {
    "name": "ipython",
    "version": 3
   },
   "file_extension": ".py",
   "mimetype": "text/x-python",
   "name": "python",
   "nbconvert_exporter": "python",
   "pygments_lexer": "ipython3",
   "version": "3.10.9"
  }
 },
 "nbformat": 4,
 "nbformat_minor": 5
}
